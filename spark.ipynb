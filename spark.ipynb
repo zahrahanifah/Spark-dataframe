{
 "cells": [
  {
   "cell_type": "code",
   "execution_count": 1,
   "id": "175458dd",
   "metadata": {},
   "outputs": [],
   "source": [
    "# import library\n",
    "from pyspark.sql import SparkSession\n",
    "from pyspark.sql import Row\n",
    "\n",
    "# create spark sesion\n",
    "spark = SparkSession.builder.appName(\"ReadCSV\").getOrCreate()\n",
    "\n",
    "# import file\n",
    "df = spark.read.option(\"header\", \"true\").option(\"inferSchema\", \"true\")\\\n",
    "    .csv(\"E:/Zahra - Data Bootcamp/spark/Spark-dataframe/fhv_tripdata_2019-01.csv\")\n"
   ]
  },
  {
   "cell_type": "code",
   "execution_count": 17,
   "id": "475eb947",
   "metadata": {},
   "outputs": [],
   "source": [
    "# wih spark SQL\n",
    "df.createOrReplaceTempView(\"tripData\")\n",
    "\n",
    "# with spark sql\n",
    "sqlDF = spark.sql(\"SELECT * FROM tripData where PULocationID is not null AND DOLocationID is not null AND pickup_datetime >= '2019-01-01 00:00:00' AND pickup_datetime <= '2019-01-10 23:59:59'\")\n",
    "\n",
    "# convert dataframe into parquet file\n",
    "sqlDF.write.parquet(\"E:/Zahra - Data Bootcamp/spark/Spark-dataframe/output.parquet\")\n",
    "\n",
    "# convert dataframe into JSON file\n",
    "sqlDF.write.json(\"E:/Zahra - Data Bootcamp/spark/Spark-dataframe/output.json\")"
   ]
  }
 ],
 "metadata": {
  "kernelspec": {
   "display_name": "Python 3",
   "language": "python",
   "name": "python3"
  },
  "language_info": {
   "codemirror_mode": {
    "name": "ipython",
    "version": 3
   },
   "file_extension": ".py",
   "mimetype": "text/x-python",
   "name": "python",
   "nbconvert_exporter": "python",
   "pygments_lexer": "ipython3",
   "version": "3.11.1"
  },
  "vscode": {
   "interpreter": {
    "hash": "318f2c383d48220c821fefd227250c35bb828f95042f5889a5ad1704b1baf79c"
   }
  }
 },
 "nbformat": 4,
 "nbformat_minor": 5
}
